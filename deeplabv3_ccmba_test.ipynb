{
 "cells": [
  {
   "cell_type": "code",
   "execution_count": 5,
   "metadata": {},
   "outputs": [
    {
     "name": "stdout",
     "output_type": "stream",
     "text": [
      "Setting up a new session...\n",
      "Device: cpu\n",
      "Dataset: voc_ccmba, Train set: 10582, Val set: 1449\n",
      "[!] Retrain\n",
      "/Users/wb/DeepLabV3Plus-CCMBA/utils/ext_transforms.py:18: RuntimeWarning: invalid value encountered in divide\n",
      "  filtered = cv2.filter2D(src=s_img, kernel=k_img/np.sum(np.sum(k_img[:,:,0])), ddepth=-1)\n",
      "/Users/wb/DeepLabV3Plus-CCMBA/utils/ext_transforms.py:18: RuntimeWarning: invalid value encountered in divide\n",
      "  filtered = cv2.filter2D(src=s_img, kernel=k_img/np.sum(np.sum(k_img[:,:,0])), ddepth=-1)\n",
      "/Users/wb/DeepLabV3Plus-CCMBA/utils/ext_transforms.py:19: RuntimeWarning: invalid value encountered in cast\n",
      "  imout = Image.fromarray((filtered*255).astype(np.uint8))\n",
      "/Users/wb/DeepLabV3Plus-CCMBA/utils/ext_transforms.py:19: RuntimeWarning: invalid value encountered in cast\n",
      "  imout = Image.fromarray((filtered*255).astype(np.uint8))\n",
      "^C\n"
     ]
    }
   ],
   "source": [
    "# fixed opts.crop_val - missing et.ExtCCMBA\n",
    "# 900 blur kernels\n",
    "# retrain model on voc_ccmba\n",
    "\n",
    "!python main.py --model deeplabv3plus_resnet50 --dataset voc_ccmba --total_itrs 100 --enable_vis --vis_port 28333 --gpu_id 0 --year 2012_aug --crop_val --lr 0.01 --crop_size 513 --batch_size 16 --output_stride 16"
   ]
  },
  {
   "cell_type": "code",
   "execution_count": 4,
   "metadata": {},
   "outputs": [
    {
     "name": "stdout",
     "output_type": "stream",
     "text": [
      "Setting up a new session...\n",
      "Device: cpu\n",
      "Dataset: voc, Train set: 10582, Val set: 1449\n",
      "Model restored from checkpoints/best_deeplabv3plus_resnet50_voc_ccmba_os16.pth\n",
      "363it [2:44:50, 27.25s/it] \n",
      "\n",
      "Overall Acc: 0.821971\n",
      "Mean Acc: 0.385205\n",
      "FreqW Acc: 0.691045\n",
      "Mean IoU: 0.319953\n",
      "\n"
     ]
    }
   ],
   "source": [
    "# validate model trained on voc_ccmba on normal voc\n",
    "# model = checkpoints/best_deeplabv3plus_resnet50_voc_ccmba_os16.pth\n",
    "\n",
    "!python main.py --model deeplabv3plus_resnet50 --dataset voc --enable_vis --vis_port 28333 --gpu_id 0 --year 2012_aug --crop_val --lr 0.01 --crop_size 513 --batch_size 16 --output_stride 16 --ckpt checkpoints/best_deeplabv3plus_resnet50_voc_ccmba_os16.pth --test_only --save_val_results"
   ]
  },
  {
   "cell_type": "code",
   "execution_count": 6,
   "metadata": {},
   "outputs": [
    {
     "name": "stdout",
     "output_type": "stream",
     "text": [
      "Setting up a new session...\n",
      "Device: cpu\n",
      "Dataset: voc_ccmba, Train set: 10582, Val set: 1449\n",
      "Model restored from checkpoints/best_deeplabv3plus_resnet50_voc_ccmba_os16.pth\n",
      "0it [00:00, ?it/s]/Users/wb/DeepLabV3Plus-CCMBA/utils/ext_transforms.py:18: RuntimeWarning: invalid value encountered in divide\n",
      "  filtered = cv2.filter2D(src=s_img, kernel=k_img/np.sum(np.sum(k_img[:,:,0])), ddepth=-1)\n",
      "/Users/wb/DeepLabV3Plus-CCMBA/utils/ext_transforms.py:19: RuntimeWarning: invalid value encountered in cast\n",
      "  imout = Image.fromarray((filtered*255).astype(np.uint8))\n",
      "/Users/wb/DeepLabV3Plus-CCMBA/utils/ext_transforms.py:18: RuntimeWarning: invalid value encountered in divide\n",
      "  filtered = cv2.filter2D(src=s_img, kernel=k_img/np.sum(np.sum(k_img[:,:,0])), ddepth=-1)\n",
      "/Users/wb/DeepLabV3Plus-CCMBA/utils/ext_transforms.py:19: RuntimeWarning: invalid value encountered in cast\n",
      "  imout = Image.fromarray((filtered*255).astype(np.uint8))\n",
      "363it [52:39,  8.70s/it]\n",
      "\n",
      "Overall Acc: 0.819182\n",
      "Mean Acc: 0.376408\n",
      "FreqW Acc: 0.686858\n",
      "Mean IoU: 0.312151\n",
      "\n"
     ]
    }
   ],
   "source": [
    "# validate model trained on voc_ccmba on voc_ccmba\n",
    "# model = best_deeplabv3plus_resnet50_voc_ccmba_os16.pth\n",
    "# CROP_VAL FIXED - METRICS SHOULD BE DIFFERENT FROM ABOVE!! yep\n",
    "\n",
    "!python main.py --model deeplabv3plus_resnet50 --dataset voc_ccmba --enable_vis --vis_port 28333 --gpu_id 0 --year 2012_aug --crop_val --lr 0.01 --crop_size 513 --batch_size 16 --output_stride 16 --ckpt checkpoints/best_deeplabv3plus_resnet50_voc_ccmba_os16.pth --test_only --save_val_results"
   ]
  },
  {
   "cell_type": "markdown",
   "metadata": {},
   "source": [
    "Fine Tune Pre-trained Model on VOC_CCMBA using --continue_training"
   ]
  },
  {
   "cell_type": "code",
   "execution_count": 20,
   "metadata": {},
   "outputs": [
    {
     "name": "stdout",
     "output_type": "stream",
     "text": [
      "Device: cpu\n",
      "Dataset: voc_ccmba, Train set: 10582, Val set: 1449\n",
      "Training state restored from checkpoints/best_deeplabv3plus_resnet50_voc_os16.pth\n",
      "Model restored from checkpoints/best_deeplabv3plus_resnet50_voc_os16.pth\n",
      "/Users/wb/DeepLabV3Plus-CCMBA/utils/ext_transforms.py:18: RuntimeWarning: invalid value encountered in divide\n",
      "  filtered = cv2.filter2D(src=s_img, kernel=k_img/np.sum(np.sum(k_img[:,:,0])), ddepth=-1)\n",
      "/Users/wb/DeepLabV3Plus-CCMBA/utils/ext_transforms.py:18: RuntimeWarning: invalid value encountered in divide\n",
      "  filtered = cv2.filter2D(src=s_img, kernel=k_img/np.sum(np.sum(k_img[:,:,0])), ddepth=-1)\n",
      "/Users/wb/DeepLabV3Plus-CCMBA/utils/ext_transforms.py:19: RuntimeWarning: invalid value encountered in cast\n",
      "  imout = Image.fromarray((filtered*255).astype(np.uint8))\n",
      "/Users/wb/DeepLabV3Plus-CCMBA/utils/ext_transforms.py:19: RuntimeWarning: invalid value encountered in cast\n",
      "  imout = Image.fromarray((filtered*255).astype(np.uint8))\n"
     ]
    }
   ],
   "source": [
    "# pre-trained model: checkpoints/best_deeplabv3plus_resnet50_voc_os16.pth\n",
    "# removed --enable_vis --vis_port 28333\n",
    "# --total_itrs 100 --> 23420\n",
    "!python main.py --model deeplabv3plus_resnet50 --total_itrs 100 --dataset voc_ccmba --gpu_id 0 --year 2012_aug --crop_val --lr 0.01 --crop_size 513 --batch_size 16 --output_stride 16 --ckpt checkpoints/best_deeplabv3plus_resnet50_voc_os16.pth --continue_training"
   ]
  },
  {
   "cell_type": "code",
   "execution_count": 14,
   "metadata": {},
   "outputs": [
    {
     "name": "stdout",
     "output_type": "stream",
     "text": [
      "Setting up a new session...\n",
      "Device: cpu\n",
      "Dataset: voc_ccmba, Train set: 10582, Val set: 1449\n",
      "Model restored from checkpoints/finetuned_voc_ccmba.pth\n",
      "363it [53:49,  8.90s/it]\n",
      "\n",
      "Overall Acc: 0.926137\n",
      "Mean Acc: 0.836002\n",
      "FreqW Acc: 0.869303\n",
      "Mean IoU: 0.719204\n",
      "\n"
     ]
    }
   ],
   "source": [
    "# try testing on L3 - results should show only blurred images\n",
    "\n",
    "!python main.py --model deeplabv3plus_resnet50 --dataset voc_ccmba --l3_only --enable_vis --vis_port 28333 --gpu_id 0 --year 2012_aug --crop_val --lr 0.01 --crop_size 513 --batch_size 16 --output_stride 16 --ckpt checkpoints/finetuned_voc_ccmba.pth --test_only --save_val_results"
   ]
  },
  {
   "cell_type": "markdown",
   "metadata": {},
   "source": [
    "Inference Test"
   ]
  },
  {
   "cell_type": "code",
   "execution_count": 15,
   "metadata": {},
   "outputs": [
    {
     "name": "stdout",
     "output_type": "stream",
     "text": [
      "Device: cpu\n",
      "Resume model from checkpoints/finetuned_voc_ccmba.pth\n",
      "100%|█████████████████████████████████████████| 100/100 [10:24<00:00,  6.24s/it]\n"
     ]
    }
   ],
   "source": [
    "# gopro subfolder tes\n",
    "\n",
    "!python predict.py --input datasets/data/GOPRO_large_test_blur/GOPR0384_11_00/blur  --dataset voc --model deeplabv3plus_resnet50 --ckpt checkpoints/finetuned_voc_ccmba.pth --save_val_results_to test_results"
   ]
  },
  {
   "cell_type": "code",
   "execution_count": 19,
   "metadata": {},
   "outputs": [
    {
     "name": "stdout",
     "output_type": "stream",
     "text": [
      "Device: cpu\n",
      "Resume model from checkpoints/finetuned_voc_ccmba.pth\n",
      "100%|█████████████████████████████████████████| 100/100 [10:03<00:00,  6.04s/it]\n"
     ]
    }
   ],
   "source": [
    "# REDS subfolder test\n",
    "\n",
    "!python predict.py --input datasets/data/REDS_test_blur/004  --dataset voc --model deeplabv3plus_resnet50 --ckpt checkpoints/finetuned_voc_ccmba.pth --save_val_results_to test_results"
   ]
  },
  {
   "cell_type": "markdown",
   "metadata": {},
   "source": [
    "Continue training from colab"
   ]
  },
  {
   "cell_type": "code",
   "execution_count": 1,
   "metadata": {},
   "outputs": [
    {
     "name": "stdout",
     "output_type": "stream",
     "text": [
      "Device: cpu\n",
      "Dataset: voc_ccmba, Train set: 10582, Val set: 1449\n",
      "Training state restored from checkpoints/latest_deeplabv3plus_resnet50_voc_ccmba_os16.pth\n",
      "Model restored from checkpoints/latest_deeplabv3plus_resnet50_voc_ccmba_os16.pth\n",
      "/Users/wb/DeepLabV3Plus-CCMBA/utils/ext_transforms.py:18: RuntimeWarning: invalid value encountered in divide\n",
      "  filtered = cv2.filter2D(src=s_img, kernel=k_img/np.sum(np.sum(k_img[:,:,0])), ddepth=-1)\n",
      "/Users/wb/DeepLabV3Plus-CCMBA/utils/ext_transforms.py:18: RuntimeWarning: invalid value encountered in divide\n",
      "  filtered = cv2.filter2D(src=s_img, kernel=k_img/np.sum(np.sum(k_img[:,:,0])), ddepth=-1)\n",
      "/Users/wb/DeepLabV3Plus-CCMBA/utils/ext_transforms.py:19: RuntimeWarning: invalid value encountered in cast\n",
      "  imout = Image.fromarray((filtered*255).astype(np.uint8))\n",
      "/Users/wb/DeepLabV3Plus-CCMBA/utils/ext_transforms.py:19: RuntimeWarning: invalid value encountered in cast\n",
      "  imout = Image.fromarray((filtered*255).astype(np.uint8))\n",
      "Epoch 1, Itrs 1610/30000, Loss=0.176839\n",
      "Epoch 1, Itrs 1620/30000, Loss=0.200961\n",
      "Epoch 1, Itrs 1630/30000, Loss=0.192323\n",
      "Epoch 1, Itrs 1640/30000, Loss=0.167107\n",
      "Epoch 1, Itrs 1650/30000, Loss=0.185483\n",
      "Epoch 1, Itrs 1660/30000, Loss=0.156975\n",
      "Epoch 1, Itrs 1670/30000, Loss=0.189171\n",
      "Epoch 1, Itrs 1680/30000, Loss=0.154520\n",
      "Epoch 1, Itrs 1690/30000, Loss=0.167579\n",
      "Epoch 1, Itrs 1700/30000, Loss=0.148721\n",
      "Model saved as checkpoints/latest_deeplabv3plus_resnet50_voc_ccmba_os16.pth\n",
      "validation...\n",
      "/Users/wb/DeepLabV3Plus-CCMBA/utils/ext_transforms.py:18: RuntimeWarning: invalid value encountered in divide\n",
      "  filtered = cv2.filter2D(src=s_img, kernel=k_img/np.sum(np.sum(k_img[:,:,0])), ddepth=-1)\n",
      "/Users/wb/DeepLabV3Plus-CCMBA/utils/ext_transforms.py:19: RuntimeWarning: invalid value encountered in cast\n",
      "  imout = Image.fromarray((filtered*255).astype(np.uint8))\n",
      "0it [00:00, ?it/s]/Users/wb/DeepLabV3Plus-CCMBA/utils/ext_transforms.py:18: RuntimeWarning: invalid value encountered in divide\n",
      "  filtered = cv2.filter2D(src=s_img, kernel=k_img/np.sum(np.sum(k_img[:,:,0])), ddepth=-1)\n",
      "/Users/wb/DeepLabV3Plus-CCMBA/utils/ext_transforms.py:19: RuntimeWarning: invalid value encountered in cast\n",
      "  imout = Image.fromarray((filtered*255).astype(np.uint8))\n",
      "363it [1:09:20, 11.46s/it]\n",
      "\n",
      "Overall Acc: 0.908956\n",
      "Mean Acc: 0.830057\n",
      "FreqW Acc: 0.844141\n",
      "Mean IoU: 0.681552\n",
      "\n",
      "Model saved as checkpoints/best_deeplabv3plus_resnet50_voc_ccmba_os16.pth\n",
      "Epoch 1, Itrs 1710/30000, Loss=0.189968\n",
      "Epoch 1, Itrs 1720/30000, Loss=0.160954\n",
      "Epoch 1, Itrs 1730/30000, Loss=0.186793\n",
      "Epoch 1, Itrs 1740/30000, Loss=0.156470\n",
      "Epoch 1, Itrs 1750/30000, Loss=0.181346\n",
      "Epoch 1, Itrs 1760/30000, Loss=0.186905\n",
      "Epoch 1, Itrs 1770/30000, Loss=0.177540\n",
      "Epoch 1, Itrs 1780/30000, Loss=0.166301\n",
      "Epoch 1, Itrs 1790/30000, Loss=0.147653\n",
      "Epoch 1, Itrs 1800/30000, Loss=0.147817\n",
      "Model saved as checkpoints/latest_deeplabv3plus_resnet50_voc_ccmba_os16.pth\n",
      "validation...\n",
      "0it [00:00, ?it/s]/Users/wb/DeepLabV3Plus-CCMBA/utils/ext_transforms.py:18: RuntimeWarning: invalid value encountered in divide\n",
      "  filtered = cv2.filter2D(src=s_img, kernel=k_img/np.sum(np.sum(k_img[:,:,0])), ddepth=-1)\n",
      "/Users/wb/DeepLabV3Plus-CCMBA/utils/ext_transforms.py:19: RuntimeWarning: invalid value encountered in cast\n",
      "  imout = Image.fromarray((filtered*255).astype(np.uint8))\n",
      "/Users/wb/DeepLabV3Plus-CCMBA/utils/ext_transforms.py:18: RuntimeWarning: invalid value encountered in divide\n",
      "  filtered = cv2.filter2D(src=s_img, kernel=k_img/np.sum(np.sum(k_img[:,:,0])), ddepth=-1)\n",
      "/Users/wb/DeepLabV3Plus-CCMBA/utils/ext_transforms.py:19: RuntimeWarning: invalid value encountered in cast\n",
      "  imout = Image.fromarray((filtered*255).astype(np.uint8))\n",
      "60it [07:03,  7.20s/it]^C\n",
      "60it [07:07,  7.13s/it]\n"
     ]
    }
   ],
   "source": [
    "!python main.py --model deeplabv3plus_resnet50 --dataset voc_ccmba --gpu_id 0 --year 2012_aug --crop_val --lr 0.01 --crop_size 513 --batch_size 16 --output_stride 16 --ckpt checkpoints/latest_deeplabv3plus_resnet50_voc_ccmba_os16.pth --continue_training "
   ]
  },
  {
   "cell_type": "code",
   "execution_count": 2,
   "metadata": {},
   "outputs": [
    {
     "name": "stdout",
     "output_type": "stream",
     "text": [
      "Device: cpu\n",
      "Dataset: voc_ccmba, Train set: 10582, Val set: 1449\n",
      "Training state restored from checkpoints/finetuned_voc_ccmba.pth\n",
      "Model restored from checkpoints/finetuned_voc_ccmba.pth\n",
      "/Users/wb/DeepLabV3Plus-CCMBA/utils/ext_transforms.py:18: RuntimeWarning: invalid value encountered in divide\n",
      "  filtered = cv2.filter2D(src=s_img, kernel=k_img/np.sum(np.sum(k_img[:,:,0])), ddepth=-1)\n",
      "/Users/wb/DeepLabV3Plus-CCMBA/utils/ext_transforms.py:18: RuntimeWarning: invalid value encountered in divide\n",
      "  filtered = cv2.filter2D(src=s_img, kernel=k_img/np.sum(np.sum(k_img[:,:,0])), ddepth=-1)\n",
      "/Users/wb/DeepLabV3Plus-CCMBA/utils/ext_transforms.py:19: RuntimeWarning: invalid value encountered in cast\n",
      "  imout = Image.fromarray((filtered*255).astype(np.uint8))\n",
      "/Users/wb/DeepLabV3Plus-CCMBA/utils/ext_transforms.py:19: RuntimeWarning: invalid value encountered in cast\n",
      "  imout = Image.fromarray((filtered*255).astype(np.uint8))\n"
     ]
    }
   ],
   "source": [
    "# check fine tuned model\n",
    "# Fine tune resnet_50 (pretrained on voc) on voc_ccmba\n",
    "# Rename saved trained model to finetuned_voc_ccmba.pth\n",
    "\n",
    "!python main.py --model deeplabv3plus_resnet50 --dataset voc_ccmba --gpu_id 0 --year 2012_aug --crop_val --lr 0.01 --crop_size 513 --batch_size 16 --output_stride 16 --ckpt checkpoints/finetuned_voc_ccmba.pth --continue_training"
   ]
  }
 ],
 "metadata": {
  "kernelspec": {
   "display_name": "Python 3",
   "language": "python",
   "name": "python3"
  },
  "language_info": {
   "codemirror_mode": {
    "name": "ipython",
    "version": 3
   },
   "file_extension": ".py",
   "mimetype": "text/x-python",
   "name": "python",
   "nbconvert_exporter": "python",
   "pygments_lexer": "ipython3",
   "version": "3.8.18"
  }
 },
 "nbformat": 4,
 "nbformat_minor": 2
}
