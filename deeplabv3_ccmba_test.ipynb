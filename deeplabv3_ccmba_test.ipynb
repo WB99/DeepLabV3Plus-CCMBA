{
 "cells": [
  {
   "cell_type": "code",
   "execution_count": 5,
   "metadata": {},
   "outputs": [
    {
     "name": "stdout",
     "output_type": "stream",
     "text": [
      "Setting up a new session...\n",
      "Device: cpu\n",
      "Dataset: voc_ccmba, Train set: 10582, Val set: 1449\n",
      "[!] Retrain\n",
      "/Users/wb/DeepLabV3Plus-CCMBA/utils/ext_transforms.py:18: RuntimeWarning: invalid value encountered in divide\n",
      "  filtered = cv2.filter2D(src=s_img, kernel=k_img/np.sum(np.sum(k_img[:,:,0])), ddepth=-1)\n",
      "/Users/wb/DeepLabV3Plus-CCMBA/utils/ext_transforms.py:18: RuntimeWarning: invalid value encountered in divide\n",
      "  filtered = cv2.filter2D(src=s_img, kernel=k_img/np.sum(np.sum(k_img[:,:,0])), ddepth=-1)\n",
      "/Users/wb/DeepLabV3Plus-CCMBA/utils/ext_transforms.py:19: RuntimeWarning: invalid value encountered in cast\n",
      "  imout = Image.fromarray((filtered*255).astype(np.uint8))\n",
      "/Users/wb/DeepLabV3Plus-CCMBA/utils/ext_transforms.py:19: RuntimeWarning: invalid value encountered in cast\n",
      "  imout = Image.fromarray((filtered*255).astype(np.uint8))\n",
      "^C\n"
     ]
    }
   ],
   "source": [
    "# fixed opts.crop_val - missing et.ExtCCMBA\n",
    "# 900 blur kernels\n",
    "# retrain model on voc_ccmba\n",
    "\n",
    "!python main.py --model deeplabv3plus_resnet50 --dataset voc_ccmba --total_itrs 100 --enable_vis --vis_port 28333 --gpu_id 0 --year 2012_aug --crop_val --lr 0.01 --crop_size 513 --batch_size 16 --output_stride 16"
   ]
  },
  {
   "cell_type": "code",
   "execution_count": 4,
   "metadata": {},
   "outputs": [
    {
     "name": "stdout",
     "output_type": "stream",
     "text": [
      "Setting up a new session...\n",
      "Device: cpu\n",
      "Dataset: voc, Train set: 10582, Val set: 1449\n",
      "Model restored from checkpoints/best_deeplabv3plus_resnet50_voc_ccmba_os16.pth\n",
      "363it [2:44:50, 27.25s/it] \n",
      "\n",
      "Overall Acc: 0.821971\n",
      "Mean Acc: 0.385205\n",
      "FreqW Acc: 0.691045\n",
      "Mean IoU: 0.319953\n",
      "\n"
     ]
    }
   ],
   "source": [
    "# validate model trained on voc_ccmba on normal voc\n",
    "# model = checkpoints/best_deeplabv3plus_resnet50_voc_ccmba_os16.pth\n",
    "\n",
    "!python main.py --model deeplabv3plus_resnet50 --dataset voc --enable_vis --vis_port 28333 --gpu_id 0 --year 2012_aug --crop_val --lr 0.01 --crop_size 513 --batch_size 16 --output_stride 16 --ckpt checkpoints/best_deeplabv3plus_resnet50_voc_ccmba_os16.pth --test_only --save_val_results"
   ]
  },
  {
   "cell_type": "code",
   "execution_count": 6,
   "metadata": {},
   "outputs": [
    {
     "name": "stdout",
     "output_type": "stream",
     "text": [
      "Setting up a new session...\n",
      "Device: cpu\n",
      "Dataset: voc_ccmba, Train set: 10582, Val set: 1449\n",
      "Model restored from checkpoints/best_deeplabv3plus_resnet50_voc_ccmba_os16.pth\n",
      "0it [00:00, ?it/s]/Users/wb/DeepLabV3Plus-CCMBA/utils/ext_transforms.py:18: RuntimeWarning: invalid value encountered in divide\n",
      "  filtered = cv2.filter2D(src=s_img, kernel=k_img/np.sum(np.sum(k_img[:,:,0])), ddepth=-1)\n",
      "/Users/wb/DeepLabV3Plus-CCMBA/utils/ext_transforms.py:19: RuntimeWarning: invalid value encountered in cast\n",
      "  imout = Image.fromarray((filtered*255).astype(np.uint8))\n",
      "/Users/wb/DeepLabV3Plus-CCMBA/utils/ext_transforms.py:18: RuntimeWarning: invalid value encountered in divide\n",
      "  filtered = cv2.filter2D(src=s_img, kernel=k_img/np.sum(np.sum(k_img[:,:,0])), ddepth=-1)\n",
      "/Users/wb/DeepLabV3Plus-CCMBA/utils/ext_transforms.py:19: RuntimeWarning: invalid value encountered in cast\n",
      "  imout = Image.fromarray((filtered*255).astype(np.uint8))\n",
      "363it [52:39,  8.70s/it]\n",
      "\n",
      "Overall Acc: 0.819182\n",
      "Mean Acc: 0.376408\n",
      "FreqW Acc: 0.686858\n",
      "Mean IoU: 0.312151\n",
      "\n"
     ]
    }
   ],
   "source": [
    "# validate model trained on voc_ccmba on voc_ccmba\n",
    "# model = best_deeplabv3plus_resnet50_voc_ccmba_os16.pth\n",
    "# CROP_VAL FIXED - METRICS SHOULD BE DIFFERENT FROM ABOVE!! yep\n",
    "\n",
    "!python main.py --model deeplabv3plus_resnet50 --dataset voc_ccmba --enable_vis --vis_port 28333 --gpu_id 0 --year 2012_aug --crop_val --lr 0.01 --crop_size 513 --batch_size 16 --output_stride 16 --ckpt checkpoints/best_deeplabv3plus_resnet50_voc_ccmba_os16.pth --test_only --save_val_results"
   ]
  },
  {
   "cell_type": "markdown",
   "metadata": {},
   "source": [
    "Fine Tune Pre-trained Model on VOC_CCMBA using --continue_training"
   ]
  },
  {
   "cell_type": "code",
   "execution_count": 18,
   "metadata": {},
   "outputs": [
    {
     "name": "stdout",
     "output_type": "stream",
     "text": [
      "Device: cpu\n",
      "Dataset: voc_ccmba, Train set: 10582, Val set: 1449\n",
      "Training state restored from checkpoints/best_deeplabv3plus_resnet50_voc_os16.pth\n",
      "Model restored from checkpoints/best_deeplabv3plus_resnet50_voc_os16.pth\n",
      "/Users/wb/DeepLabV3Plus-CCMBA/utils/ext_transforms.py:18: RuntimeWarning: invalid value encountered in divide\n",
      "  filtered = cv2.filter2D(src=s_img, kernel=k_img/np.sum(np.sum(k_img[:,:,0])), ddepth=-1)\n",
      "/Users/wb/DeepLabV3Plus-CCMBA/utils/ext_transforms.py:19: RuntimeWarning: invalid value encountered in cast\n",
      "  imout = Image.fromarray((filtered*255).astype(np.uint8))\n",
      "/Users/wb/DeepLabV3Plus-CCMBA/utils/ext_transforms.py:18: RuntimeWarning: invalid value encountered in divide\n",
      "  filtered = cv2.filter2D(src=s_img, kernel=k_img/np.sum(np.sum(k_img[:,:,0])), ddepth=-1)\n",
      "/Users/wb/DeepLabV3Plus-CCMBA/utils/ext_transforms.py:19: RuntimeWarning: invalid value encountered in cast\n",
      "  imout = Image.fromarray((filtered*255).astype(np.uint8))\n"
     ]
    }
   ],
   "source": [
    "# pre-trained model: checkpoints/best_deeplabv3plus_resnet50_voc_os16.pth\n",
    "# removed --enable_vis --vis_port 28333\n",
    "# --total_itrs 100 --> 23420\n",
    "!python main.py --model deeplabv3plus_resnet50 --total_itrs 100 --dataset voc_ccmba --gpu_id 0 --year 2012_aug --crop_val --lr 0.01 --crop_size 513 --batch_size 16 --output_stride 16 --ckpt checkpoints/best_deeplabv3plus_resnet50_voc_os16.pth --continue_training"
   ]
  },
  {
   "cell_type": "code",
   "execution_count": 14,
   "metadata": {},
   "outputs": [
    {
     "name": "stdout",
     "output_type": "stream",
     "text": [
      "Setting up a new session...\n",
      "Device: cpu\n",
      "Dataset: voc_ccmba, Train set: 10582, Val set: 1449\n",
      "Model restored from checkpoints/finetuned_voc_ccmba.pth\n",
      "363it [53:49,  8.90s/it]\n",
      "\n",
      "Overall Acc: 0.926137\n",
      "Mean Acc: 0.836002\n",
      "FreqW Acc: 0.869303\n",
      "Mean IoU: 0.719204\n",
      "\n"
     ]
    }
   ],
   "source": [
    "# try testing on L3 - results should show only blurred images\n",
    "\n",
    "!python main.py --model deeplabv3plus_resnet50 --dataset voc_ccmba --l3_only --enable_vis --vis_port 28333 --gpu_id 0 --year 2012_aug --crop_val --lr 0.01 --crop_size 513 --batch_size 16 --output_stride 16 --ckpt checkpoints/finetuned_voc_ccmba.pth --test_only --save_val_results"
   ]
  },
  {
   "cell_type": "markdown",
   "metadata": {},
   "source": [
    "Inference Test"
   ]
  },
  {
   "cell_type": "code",
   "execution_count": 15,
   "metadata": {},
   "outputs": [
    {
     "name": "stdout",
     "output_type": "stream",
     "text": [
      "Device: cpu\n",
      "Resume model from checkpoints/finetuned_voc_ccmba.pth\n",
      "100%|█████████████████████████████████████████| 100/100 [10:24<00:00,  6.24s/it]\n"
     ]
    }
   ],
   "source": [
    "# gopro subfolder tes\n",
    "\n",
    "!python predict.py --input datasets/data/GOPRO_large_test_blur/GOPR0384_11_00/blur  --dataset voc --model deeplabv3plus_resnet50 --ckpt checkpoints/finetuned_voc_ccmba.pth --save_val_results_to test_results"
   ]
  },
  {
   "cell_type": "code",
   "execution_count": null,
   "metadata": {},
   "outputs": [],
   "source": [
    "# REDS subfolder test\n",
    "\n",
    "!python predict.py --input datasets/data/REDS_test_blur/004  --dataset voc --model deeplabv3plus_resnet50 --ckpt checkpoints/finetuned_voc_ccmba.pth --save_val_results_to test_results"
   ]
  }
 ],
 "metadata": {
  "kernelspec": {
   "display_name": "Python 3",
   "language": "python",
   "name": "python3"
  },
  "language_info": {
   "codemirror_mode": {
    "name": "ipython",
    "version": 3
   },
   "file_extension": ".py",
   "mimetype": "text/x-python",
   "name": "python",
   "nbconvert_exporter": "python",
   "pygments_lexer": "ipython3",
   "version": "3.8.18"
  }
 },
 "nbformat": 4,
 "nbformat_minor": 2
}
